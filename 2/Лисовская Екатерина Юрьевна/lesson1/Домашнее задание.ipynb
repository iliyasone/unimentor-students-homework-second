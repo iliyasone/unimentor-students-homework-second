{
  "nbformat": 4,
  "nbformat_minor": 0,
  "metadata": {
    "colab": {
      "provenance": []
    },
    "kernelspec": {
      "name": "python3",
      "display_name": "Python 3"
    },
    "language_info": {
      "name": "python"
    }
  },
  "cells": [
    {
      "cell_type": "markdown",
      "source": [
        "## Задача 1"
      ],
      "metadata": {
        "id": "ZVBtJw8_apbn"
      }
    },
    {
      "cell_type": "code",
      "execution_count": 1,
      "metadata": {
        "colab": {
          "base_uri": "https://localhost:8080/"
        },
        "id": "7sX0fSiFaeqy",
        "outputId": "801e2d5a-6610-42b0-b969-f7f35af99002"
      },
      "outputs": [
        {
          "output_type": "stream",
          "name": "stdout",
          "text": [
            "Ввод:\n",
            "Valerii\n",
            "Yartsev\n",
            "********************\n",
            "Вывод:\n",
            "Добро пожаловать в Полиннос, Valerii Yartsev!\n"
          ]
        }
      ],
      "source": [
        "print('Ввод:')\n",
        "firstname = input()\n",
        "surname = input()\n",
        "\n",
        "print('*'*20)\n",
        "print('Вывод:')\n",
        "print(f'Добро пожаловать в Полиннос, {firstname} {surname}!')"
      ]
    },
    {
      "cell_type": "markdown",
      "source": [
        "## Задача 2"
      ],
      "metadata": {
        "id": "GuZo7viMboNN"
      }
    },
    {
      "cell_type": "code",
      "source": [
        "print('Ввод:')\n",
        "name1 = input()\n",
        "name2 = input()\n",
        "print('*'*20)\n",
        "print('Вывод:')\n",
        "print(name2 * 4 == name1)"
      ],
      "metadata": {
        "colab": {
          "base_uri": "https://localhost:8080/"
        },
        "id": "dTJ_xYRDbDEr",
        "outputId": "33140187-fdb2-4373-9e54-d3f8820d4469"
      },
      "execution_count": 2,
      "outputs": [
        {
          "output_type": "stream",
          "name": "stdout",
          "text": [
            "Ввод:\n",
            "MikeMikeMikeMike\n",
            "Mike\n",
            "********************\n",
            "Вывод:\n",
            "True\n"
          ]
        }
      ]
    },
    {
      "cell_type": "markdown",
      "source": [
        "## Задача 3"
      ],
      "metadata": {
        "id": "UFWR57f8b9WS"
      }
    },
    {
      "cell_type": "code",
      "source": [
        "v_apple = 52 * 10\n",
        "v_banana = 89 * 10\n",
        "v_tomato = 24 * 10\n",
        "\n",
        "print('Ввод:')\n",
        "name = input()\n",
        "value = int(input())\n",
        "print('*'*20)\n",
        "print('Вывод:')\n",
        "if name == 'яблоки':\n",
        "  print(v_apple * value)\n",
        "elif name == 'бананы':\n",
        "  print(v_banana * value)\n",
        "elif name == 'помидоры':\n",
        "  print(v_tomato * value)"
      ],
      "metadata": {
        "colab": {
          "base_uri": "https://localhost:8080/"
        },
        "id": "2GxjbLN-b2O5",
        "outputId": "5900f121-e637-4b45-a11c-aae857be05f0"
      },
      "execution_count": 3,
      "outputs": [
        {
          "output_type": "stream",
          "name": "stdout",
          "text": [
            "Ввод:\n",
            "яблоки\n",
            "3\n",
            "********************\n",
            "Вывод:\n",
            "1560\n"
          ]
        }
      ]
    },
    {
      "cell_type": "markdown",
      "source": [
        "## Задача 4"
      ],
      "metadata": {
        "id": "29AN5N_1dRHv"
      }
    },
    {
      "cell_type": "code",
      "source": [
        "v_apple = 52 * 10\n",
        "v_banana = 89 * 10\n",
        "v_tomato = 24 * 10\n",
        "\n",
        "print('Ввод:')\n",
        "s = 0\n",
        "count = int(input())\n",
        "for i in range(count):\n",
        "  name = input()\n",
        "  value = int(input())\n",
        "\n",
        "  if name == 'яблоки':\n",
        "    s += v_apple * value\n",
        "  elif name == 'бананы':\n",
        "    s += v_banana * value\n",
        "  elif name == 'помидоры':\n",
        "    s += v_tomato * value\n",
        "print('*'*20)\n",
        "print('Вывод:')\n",
        "print(s)"
      ],
      "metadata": {
        "colab": {
          "base_uri": "https://localhost:8080/"
        },
        "id": "3Kms_kT_c96r",
        "outputId": "1e879bf4-6bd3-41d5-fe5d-5b8e8aba83a9"
      },
      "execution_count": 4,
      "outputs": [
        {
          "output_type": "stream",
          "name": "stdout",
          "text": [
            "Ввод:\n",
            "2\n",
            "яблоки\n",
            "3\n",
            "бананы\n",
            "4\n",
            "********************\n",
            "Вывод:\n",
            "5120\n"
          ]
        }
      ]
    },
    {
      "cell_type": "markdown",
      "source": [
        "## Задача 5"
      ],
      "metadata": {
        "id": "xy3iP_BUd3Gv"
      }
    },
    {
      "cell_type": "code",
      "source": [
        "limit = 50\n",
        "s = 0\n",
        "n = 0\n",
        "print('Ввод:')\n",
        "while s < limit:\n",
        "  n += 1\n",
        "  value = int(input())\n",
        "  s += value\n",
        "print('*'*20)\n",
        "print('Вывод:')\n",
        "print(s - value)\n",
        "print(n - 1)"
      ],
      "metadata": {
        "colab": {
          "base_uri": "https://localhost:8080/"
        },
        "id": "OYQkXNwLdvxB",
        "outputId": "923ff76e-f746-4f60-c624-247d5837bf0e"
      },
      "execution_count": 5,
      "outputs": [
        {
          "output_type": "stream",
          "name": "stdout",
          "text": [
            "Ввод:\n",
            "15\n",
            "40\n",
            "********************\n",
            "Вывод:\n",
            "15\n",
            "1\n"
          ]
        }
      ]
    }
  ]
}