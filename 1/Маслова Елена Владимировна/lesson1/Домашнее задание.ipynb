{
  "nbformat": 4,
  "nbformat_minor": 0,
  "metadata": {
    "colab": {
      "provenance": []
    },
    "kernelspec": {
      "name": "python3",
      "display_name": "Python 3"
    },
    "language_info": {
      "name": "python"
    }
  },
  "cells": [
    {
      "cell_type": "markdown",
      "source": [
        "***Задачи на работу дома 1 модуль 1 урок***"
      ],
      "metadata": {
        "id": "4FbjCwzzcKek"
      }
    },
    {
      "cell_type": "code",
      "execution_count": 5,
      "metadata": {
        "colab": {
          "base_uri": "https://localhost:8080/"
        },
        "id": "CDlNpKiCcH7U",
        "outputId": "4e1048dc-b120-47a9-8141-8850dc04a802"
      },
      "outputs": [
        {
          "output_type": "stream",
          "name": "stdout",
          "text": [
            "Введите имя: Валера\n",
            "Введите фамилию: Иванов\n",
            "Добро пожаловать в Полиннос, Валера Иванов!\n"
          ]
        }
      ],
      "source": [
        "# задача 1\n",
        "name = input('Введите имя: ')\n",
        "surname = input('Введите фамилию: ')\n",
        "str = 'Добро пожаловать в Полиннос, '+name+' '+surname+'!'\n",
        "print(str)"
      ]
    },
    {
      "cell_type": "code",
      "source": [
        "# задача 2\n",
        "name1 = input('Введите имя первого студента: ')\n",
        "name2 = input('Введите имя второго студента: ')\n",
        "print(name1 == name2*4)"
      ],
      "metadata": {
        "colab": {
          "base_uri": "https://localhost:8080/"
        },
        "id": "SR1nzNAYc9-4",
        "outputId": "c32975f7-7da6-4c5a-de5e-fbe2b0ef44cc"
      },
      "execution_count": 6,
      "outputs": [
        {
          "output_type": "stream",
          "name": "stdout",
          "text": [
            "Введите имя первого студента: MikeMikeMikeMike\n",
            "Введите имя второго студента: Mike\n",
            "True\n"
          ]
        }
      ]
    },
    {
      "cell_type": "code",
      "source": [
        "# задача 3\n",
        "product = input('Введите название продукта: ')\n",
        "weight = int(input('Введите вес продукта: '))\n",
        "if product == 'яблоки':\n",
        "  calories = weight * 10 * 52\n",
        "elif product == 'бананы':\n",
        "  calories = weight * 10 * 89\n",
        "else:\n",
        "  calories = weight * 10 * 24\n",
        "print(calories)"
      ],
      "metadata": {
        "colab": {
          "base_uri": "https://localhost:8080/"
        },
        "id": "42_kc6a5fqem",
        "outputId": "6b828fc6-a951-4bb2-fa5a-5d15e31a5a62"
      },
      "execution_count": 11,
      "outputs": [
        {
          "output_type": "stream",
          "name": "stdout",
          "text": [
            "Введите название продукта: помидоры\n",
            "Введите вес продукта: 20\n",
            "4800\n"
          ]
        }
      ]
    },
    {
      "cell_type": "code",
      "source": [
        "# задача 4\n",
        "n = int(input('Введите количество приемов пищи: '))\n",
        "itog = 0\n",
        "for i in range(n):\n",
        "  product = input('Введите название продукта: ')\n",
        "  weight = int(input('Введите вес продукта: '))\n",
        "  if product == 'яблоки':\n",
        "    calories = weight * 10 * 52\n",
        "  elif product == 'бананы':\n",
        "    calories = weight * 10 * 89\n",
        "  else:\n",
        "    calories = weight * 10 * 24\n",
        "  itog += calories\n",
        "print(itog)"
      ],
      "metadata": {
        "colab": {
          "base_uri": "https://localhost:8080/"
        },
        "id": "ZwG2m6vpivB-",
        "outputId": "6bb9b766-3bdc-4609-def8-487db82f4c19"
      },
      "execution_count": 14,
      "outputs": [
        {
          "output_type": "stream",
          "name": "stdout",
          "text": [
            "Введите количество приемов пищи: 2\n",
            "Введите название продукта: яблоки\n",
            "Введите вес продукта: 3\n",
            "Введите название продукта: бананы\n",
            "Введите вес продукта: 4\n",
            "5120\n"
          ]
        }
      ]
    },
    {
      "cell_type": "code",
      "source": [
        "itog = 0\n",
        "i = 0\n",
        "while (True):\n",
        "  weight = int(input('Введите вес продукта: '))\n",
        "  itog += weight\n",
        "  if itog <= 50:\n",
        "    i += 1\n",
        "  else:\n",
        "    break\n",
        "print(itog-weight)\n",
        "print(i)"
      ],
      "metadata": {
        "colab": {
          "base_uri": "https://localhost:8080/"
        },
        "id": "Canjsg_ZjegE",
        "outputId": "e1641c4c-cd55-4781-fa18-37f85519382f"
      },
      "execution_count": 26,
      "outputs": [
        {
          "output_type": "stream",
          "name": "stdout",
          "text": [
            "Введите вес продукта: 51\n",
            "0\n",
            "0\n"
          ]
        }
      ]
    }
  ]
}